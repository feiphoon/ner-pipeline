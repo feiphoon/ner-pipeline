{
 "cells": [
  {
   "cell_type": "markdown",
   "metadata": {},
   "source": [
    "# Extract results of best custom trained and tested NER model"
   ]
  },
  {
   "cell_type": "code",
   "execution_count": null,
   "metadata": {},
   "outputs": [],
   "source": [
    "import spacy\n",
    "from spacy import displacy\n",
    "import pandas as pd\n",
    "import json"
   ]
  },
  {
   "cell_type": "code",
   "execution_count": 24,
   "metadata": {},
   "outputs": [],
   "source": [
    "radam_lr_00005_nlp = spacy.load(\"../../data/processed/converted_train_test_data_for_ner/output/radam_lr_00005/model-best\")\n"
   ]
  },
  {
   "cell_type": "code",
   "execution_count": 32,
   "metadata": {},
   "outputs": [
    {
     "data": {
      "text/plain": [
       "dict"
      ]
     },
     "execution_count": 32,
     "metadata": {},
     "output_type": "execute_result"
    }
   ],
   "source": [
    "radam_lr_00005_meta = radam_lr_00005_nlp.meta"
   ]
  },
  {
   "cell_type": "code",
   "execution_count": 44,
   "metadata": {},
   "outputs": [
    {
     "data": {
      "text/plain": [
       "{'ents_f': 0.9107661531000001,\n",
       " 'ents_p': 0.9121874157000001,\n",
       " 'ents_r': 0.9093493124,\n",
       " 'ents_per_type': {'pharmaceutical': {'p': 0.6238317757,\n",
       "   'r': 0.3156028369,\n",
       "   'f': 0.4191522763},\n",
       "  'scientific': {'p': 0.9519755976000001,\n",
       "   'r': 0.9491477474000001,\n",
       "   'f': 0.9505595693000001},\n",
       "  'common': {'p': 0.8739061953,\n",
       "   'r': 0.9038827043000001,\n",
       "   'f': 0.8886417226000001}},\n",
       " 'tok2vec_loss': 30.915750079,\n",
       " 'ner_loss': 661.1698244312}"
      ]
     },
     "execution_count": 44,
     "metadata": {},
     "output_type": "execute_result"
    }
   ],
   "source": [
    "radam_lr_00005_meta[\"performance\"]"
   ]
  },
  {
   "cell_type": "code",
   "execution_count": null,
   "metadata": {},
   "outputs": [],
   "source": []
  }
 ],
 "metadata": {
  "interpreter": {
   "hash": "7bfb39f90f2f9385df598571e0489e84f399e28151822edddb4b795d7279ab50"
  },
  "kernelspec": {
   "display_name": "Python 3.9.8 64-bit ('venv': venv)",
   "language": "python",
   "name": "python3"
  },
  "language_info": {
   "codemirror_mode": {
    "name": "ipython",
    "version": 3
   },
   "file_extension": ".py",
   "mimetype": "text/x-python",
   "name": "python",
   "nbconvert_exporter": "python",
   "pygments_lexer": "ipython3",
   "version": "3.9.8"
  },
  "orig_nbformat": 4
 },
 "nbformat": 4,
 "nbformat_minor": 2
}
